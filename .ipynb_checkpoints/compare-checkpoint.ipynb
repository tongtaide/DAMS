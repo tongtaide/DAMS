{
 "cells": [
  {
   "cell_type": "code",
   "execution_count": null,
   "metadata": {},
   "outputs": [],
   "source": [
    "\n",
    "\"\"\"=========================================================\"\"\"\n",
    "\n",
    "def Compare(self.__yscore,self.__y):\n",
    "    self.__FPR, self.__TPR, self.__thresholds = roc_curve(self.__y,self.__yscore)\n",
    "    self.__precision, self.__recall, self.__thresholds2 = precision_recall_curve(self.__y,self.__yscore)\n",
    "        \n",
    "       \n",
    "    \n",
    "def roc(self):\n",
    "    return self.__FPR, self.__TPR, self.__roc\n",
    "\n",
    "   \n",
    "\n",
    "\"\"\"=========================================================\"\"\"\n"
   ]
  }
 ],
 "metadata": {
  "kernelspec": {
   "display_name": "Python 3",
   "language": "python",
   "name": "python3"
  },
  "language_info": {
   "codemirror_mode": {
    "name": "ipython",
    "version": 3
   },
   "file_extension": ".py",
   "mimetype": "text/x-python",
   "name": "python",
   "nbconvert_exporter": "python",
   "pygments_lexer": "ipython3",
   "version": "3.7.6"
  }
 },
 "nbformat": 4,
 "nbformat_minor": 4
}
